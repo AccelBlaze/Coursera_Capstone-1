{
    "cells": [
        {
            "cell_type": "markdown",
            "metadata": {
                "collapsed": true
            },
            "source": "# Peer-graded Assignment: Segmenting and Clustering Neighborhoods in Toronto\n> *Notebook Created by* **Ezra Witt**\n\n> # `Part 1 ~ Gathering the Data From Wikipedia`"
        },
        {
            "cell_type": "markdown",
            "metadata": {},
            "source": "Before we get the data and start exploring it, let's download all the dependencies that we will need for part 1"
        },
        {
            "cell_type": "code",
            "execution_count": 1,
            "metadata": {},
            "outputs": [
                {
                    "name": "stdout",
                    "output_type": "stream",
                    "text": "Libraries imported.\n"
                }
            ],
            "source": "import numpy as np\nimport pandas as pd\nfrom bs4 import BeautifulSoup as bs\nimport requests\nprint('Libraries imported.')"
        },
        {
            "cell_type": "markdown",
            "metadata": {},
            "source": "Since the dataset was readily availible we will use a Wikipedia Page to Find the Necessary Data"
        },
        {
            "cell_type": "code",
            "execution_count": 2,
            "metadata": {},
            "outputs": [],
            "source": "### Use Beautiful Soup to scrape the data from the wikipedia page table\n\nurl = 'https://en.wikipedia.org/wiki/List_of_postal_codes_of_Canada:_M'\nresult = requests.get(url)\nsoup = bs(result.content, 'html.parser')\ntable = soup.table ### using the inspect feature on the wiki page I was able to find the class as table"
        },
        {
            "cell_type": "markdown",
            "metadata": {},
            "source": "Let's take a quick look at the data."
        },
        {
            "cell_type": "code",
            "execution_count": 3,
            "metadata": {},
            "outputs": [
                {
                    "data": {
                        "text/plain": "<table class=\"wikitable sortable\">\n<tbody><tr>\n<th>Postal Code\n</th>\n<th>Borough\n</th>\n<th>Neighborhood\n</th></tr>\n<tr>\n<td>M1A\n</td>\n<td>Not assigned\n</td>\n<td>\n</td></tr>\n<tr>\n<td>M2A\n</td>\n<td>Not assigned\n</td>\n<td>\n</td></tr>\n<tr>\n<td>M3A\n</td>\n<td>North York\n</td>\n<td>Parkwoods\n</td></tr>\n<tr>\n<td>M4A\n</td>\n<td>North York\n</td>\n<td>Victoria Village\n</td></tr>\n<tr>\n<td>M5A\n</td>\n<td>Downtown Toronto\n</td>\n<td>Regent Park, Harbourfront\n</td></tr>\n<tr>\n<td>M6A\n</td>\n<td>North York\n</td>\n<td>Lawrence Manor, Lawrence Heights\n</td></tr>\n<tr>\n<td>M7A\n</td>\n<td>Downtown Toronto\n</td>\n<td>Queen's Park, Ontario Provincial Government\n</td></tr>\n<tr>\n<td>M8A\n</td>\n<td>Not assigned\n</td>\n<td>\n</td></tr>\n<tr>\n<td>M9A\n</td>\n<td>Etobicoke\n</td>\n<td>Islington Avenue\n</td></tr>\n<tr>\n<td>M1B\n</td>\n<td>Scarborough\n</td>\n<td>Malvern, Rouge\n</td></tr>\n<tr>\n<td>M2B\n</td>\n<td>Not assigned\n</td>\n<td>\n</td></tr>\n<tr>\n<td>M3B\n</td>\n<td>North York\n</td>\n<td>Don Mills\n</td></tr>\n<tr>\n<td>M4B\n</td>\n<td>East York\n</td>\n<td>Parkview Hill, Woodbine Gardens\n</td></tr>\n<tr>\n<td>M5B\n</td>\n<td>Downtown Toronto\n</td>\n<td>Garden District, Ryerson\n</td></tr>\n<tr>\n<td>M6B\n</td>\n<td>North York\n</td>\n<td>Glencairn\n</td></tr>\n<tr>\n<td>M7B\n</td>\n<td>Not assigned\n</td>\n<td>\n</td></tr>\n<tr>\n<td>M8B\n</td>\n<td>Not assigned\n</td>\n<td>\n</td></tr>\n<tr>\n<td>M9B\n</td>\n<td>Etobicoke\n</td>\n<td>West Deane Park, Princess Gardens, Martin Grove, Islington, Cloverdale\n</td></tr>\n<tr>\n<td>M1C\n</td>\n<td>Scarborough\n</td>\n<td>Rouge Hill, Port Union, Highland Creek\n</td></tr>\n<tr>\n<td>M2C\n</td>\n<td>Not assigned\n</td>\n<td>\n</td></tr>\n<tr>\n<td>M3C\n</td>\n<td>North York\n</td>\n<td>Don Mills\n</td></tr>\n<tr>\n<td>M4C\n</td>\n<td>East York\n</td>\n<td>Woodbine Heights\n</td></tr>\n<tr>\n<td>M5C\n</td>\n<td>Downtown Toronto\n</td>\n<td>St. James Town\n</td></tr>\n<tr>\n<td>M6C\n</td>\n<td>York\n</td>\n<td>Humewood-Cedarvale\n</td></tr>\n<tr>\n<td>M7C\n</td>\n<td>Not assigned\n</td>\n<td>\n</td></tr>\n<tr>\n<td>M8C\n</td>\n<td>Not assigned\n</td>\n<td>\n</td></tr>\n<tr>\n<td>M9C\n</td>\n<td>Etobicoke\n</td>\n<td>Eringate, Bloordale Gardens, Old Burnhamthorpe, Markland Wood\n</td></tr>\n<tr>\n<td>M1E\n</td>\n<td>Scarborough\n</td>\n<td>Guildwood, Morningside, West Hill\n</td></tr>\n<tr>\n<td>M2E\n</td>\n<td>Not assigned\n</td>\n<td>\n</td></tr>\n<tr>\n<td>M3E\n</td>\n<td>Not assigned\n</td>\n<td>\n</td></tr>\n<tr>\n<td>M4E\n</td>\n<td>East Toronto\n</td>\n<td>The Beaches\n</td></tr>\n<tr>\n<td>M5E\n</td>\n<td>Downtown Toronto\n</td>\n<td>Berczy Park\n</td></tr>\n<tr>\n<td>M6E\n</td>\n<td>York\n</td>\n<td>Caledonia-Fairbanks\n</td></tr>\n<tr>\n<td>M7E\n</td>\n<td>Not assigned\n</td>\n<td>\n</td></tr>\n<tr>\n<td>M8E\n</td>\n<td>Not assigned\n</td>\n<td>\n</td></tr>\n<tr>\n<td>M9E\n</td>\n<td>Not assigned\n</td>\n<td>\n</td></tr>\n<tr>\n<td>M1G\n</td>\n<td>Scarborough\n</td>\n<td>Woburn\n</td></tr>\n<tr>\n<td>M2G\n</td>\n<td>Not assigned\n</td>\n<td>\n</td></tr>\n<tr>\n<td>M3G\n</td>\n<td>Not assigned\n</td>\n<td>\n</td></tr>\n<tr>\n<td>M4G\n</td>\n<td>East York\n</td>\n<td>Leaside\n</td></tr>\n<tr>\n<td>M5G\n</td>\n<td>Downtown Toronto\n</td>\n<td>Central Bay Street\n</td></tr>\n<tr>\n<td>M6G\n</td>\n<td>Downtown Toronto\n</td>\n<td>Christie\n</td></tr>\n<tr>\n<td>M7G\n</td>\n<td>Not assigned\n</td>\n<td>\n</td></tr>\n<tr>\n<td>M8G\n</td>\n<td>Not assigned\n</td>\n<td>\n</td></tr>\n<tr>\n<td>M9G\n</td>\n<td>Not assigned\n</td>\n<td>\n</td></tr>\n<tr>\n<td>M1H\n</td>\n<td>Scarborough\n</td>\n<td>Cedarbrae\n</td></tr>\n<tr>\n<td>M2H\n</td>\n<td>North York\n</td>\n<td>Hillcrest Village\n</td></tr>\n<tr>\n<td>M3H\n</td>\n<td>North York\n</td>\n<td>Bathurst Manor, Wilson Heights, Downsview North\n</td></tr>\n<tr>\n<td>M4H\n</td>\n<td>East York\n</td>\n<td>Thorncliffe Park\n</td></tr>\n<tr>\n<td>M5H\n</td>\n<td>Downtown Toronto\n</td>\n<td>Richmond, Adelaide, King\n</td></tr>\n<tr>\n<td>M6H\n</td>\n<td>West Toronto\n</td>\n<td>Dufferin, Dovercourt Village\n</td></tr>\n<tr>\n<td>M7H\n</td>\n<td>Not assigned\n</td>\n<td>\n</td></tr>\n<tr>\n<td>M8H\n</td>\n<td>Not assigned\n</td>\n<td>\n</td></tr>\n<tr>\n<td>M9H\n</td>\n<td>Not assigned\n</td>\n<td>\n</td></tr>\n<tr>\n<td>M1J\n</td>\n<td>Scarborough\n</td>\n<td>Scarborough Village\n</td></tr>\n<tr>\n<td>M2J\n</td>\n<td>North York\n</td>\n<td>Fairview, Henry Farm, Oriole\n</td></tr>\n<tr>\n<td>M3J\n</td>\n<td>North York\n</td>\n<td>Northwood Park, York University\n</td></tr>\n<tr>\n<td>M4J\n</td>\n<td>East York\n</td>\n<td>East Toronto\n</td></tr>\n<tr>\n<td>M5J\n</td>\n<td>Downtown Toronto\n</td>\n<td>Harbourfront East, Union Station, Toronto Islands\n</td></tr>\n<tr>\n<td>M6J\n</td>\n<td>West Toronto\n</td>\n<td>Little Portugal, Trinity\n</td></tr>\n<tr>\n<td>M7J\n</td>\n<td>Not assigned\n</td>\n<td>\n</td></tr>\n<tr>\n<td>M8J\n</td>\n<td>Not assigned\n</td>\n<td>\n</td></tr>\n<tr>\n<td>M9J\n</td>\n<td>Not assigned\n</td>\n<td>\n</td></tr>\n<tr>\n<td>M1K\n</td>\n<td>Scarborough\n</td>\n<td>Kennedy Park, Ionview, East Birchmount Park\n</td></tr>\n<tr>\n<td>M2K\n</td>\n<td>North York\n</td>\n<td>Bayview Village\n</td></tr>\n<tr>\n<td>M3K\n</td>\n<td>North York\n</td>\n<td>Downsview\n</td></tr>\n<tr>\n<td>M4K\n</td>\n<td>East Toronto\n</td>\n<td>The Danforth West, Riverdale\n</td></tr>\n<tr>\n<td>M5K\n</td>\n<td>Downtown Toronto\n</td>\n<td>Toronto Dominion Centre, Design Exchange\n</td></tr>\n<tr>\n<td>M6K\n</td>\n<td>West Toronto\n</td>\n<td>Brockton, Parkdale Village, Exhibition Place\n</td></tr>\n<tr>\n<td>M7K\n</td>\n<td>Not assigned\n</td>\n<td>\n</td></tr>\n<tr>\n<td>M8K\n</td>\n<td>Not assigned\n</td>\n<td>\n</td></tr>\n<tr>\n<td>M9K\n</td>\n<td>Not assigned\n</td>\n<td>\n</td></tr>\n<tr>\n<td>M1L\n</td>\n<td>Scarborough\n</td>\n<td>Golden Mile, Clairlea, Oakridge\n</td></tr>\n<tr>\n<td>M2L\n</td>\n<td>North York\n</td>\n<td>York Mills, Silver Hills\n</td></tr>\n<tr>\n<td>M3L\n</td>\n<td>North York\n</td>\n<td>Downsview\n</td></tr>\n<tr>\n<td>M4L\n</td>\n<td>East Toronto\n</td>\n<td>India Bazaar, The Beaches West\n</td></tr>\n<tr>\n<td>M5L\n</td>\n<td>Downtown Toronto\n</td>\n<td>Commerce Court, Victoria Hotel\n</td></tr>\n<tr>\n<td>M6L\n</td>\n<td>North York\n</td>\n<td>North Park, Maple Leaf Park, Upwood Park\n</td></tr>\n<tr>\n<td>M7L\n</td>\n<td>Not assigned\n</td>\n<td>\n</td></tr>\n<tr>\n<td>M8L\n</td>\n<td>Not assigned\n</td>\n<td>\n</td></tr>\n<tr>\n<td>M9L\n</td>\n<td>North York\n</td>\n<td>Humber Summit\n</td></tr>\n<tr>\n<td>M1M\n</td>\n<td>Scarborough\n</td>\n<td>Cliffside, Cliffcrest, Scarborough Village West\n</td></tr>\n<tr>\n<td>M2M\n</td>\n<td>North York\n</td>\n<td>Willowdale, Newtonbrook\n</td></tr>\n<tr>\n<td>M3M\n</td>\n<td>North York\n</td>\n<td>Downsview\n</td></tr>\n<tr>\n<td>M4M\n</td>\n<td>East Toronto\n</td>\n<td>Studio District\n</td></tr>\n<tr>\n<td>M5M\n</td>\n<td>North York\n</td>\n<td>Bedford Park, Lawrence Manor East\n</td></tr>\n<tr>\n<td>M6M\n</td>\n<td>York\n</td>\n<td>Del Ray, Mount Dennis, Keelsdale and Silverthorn\n</td></tr>\n<tr>\n<td>M7M\n</td>\n<td>Not assigned\n</td>\n<td>\n</td></tr>\n<tr>\n<td>M8M\n</td>\n<td>Not assigned\n</td>\n<td>\n</td></tr>\n<tr>\n<td>M9M\n</td>\n<td>North York\n</td>\n<td>Humberlea, Emery\n</td></tr>\n<tr>\n<td>M1N\n</td>\n<td>Scarborough\n</td>\n<td>Birch Cliff, Cliffside West\n</td></tr>\n<tr>\n<td>M2N\n</td>\n<td>North York\n</td>\n<td>Willowdale\n</td></tr>\n<tr>\n<td>M3N\n</td>\n<td>North York\n</td>\n<td>Downsview\n</td></tr>\n<tr>\n<td>M4N\n</td>\n<td>Central Toronto\n</td>\n<td>Lawrence Park\n</td></tr>\n<tr>\n<td>M5N\n</td>\n<td>Central Toronto\n</td>\n<td>Roselawn\n</td></tr>\n<tr>\n<td>M6N\n</td>\n<td>York\n</td>\n<td>Runnymede, The Junction North\n</td></tr>\n<tr>\n<td>M7N\n</td>\n<td>Not assigned\n</td>\n<td>\n</td></tr>\n<tr>\n<td>M8N\n</td>\n<td>Not assigned\n</td>\n<td>\n</td></tr>\n<tr>\n<td>M9N\n</td>\n<td>York\n</td>\n<td>Weston\n</td></tr>\n<tr>\n<td>M1P\n</td>\n<td>Scarborough\n</td>\n<td>Dorset Park, Wexford Heights, Scarborough Town Centre\n</td></tr>\n<tr>\n<td>M2P\n</td>\n<td>North York\n</td>\n<td>York Mills West\n</td></tr>\n<tr>\n<td>M3P\n</td>\n<td>Not assigned\n</td>\n<td>\n</td></tr>\n<tr>\n<td>M4P\n</td>\n<td>Central Toronto\n</td>\n<td>Davisville North\n</td></tr>\n<tr>\n<td>M5P\n</td>\n<td>Central Toronto\n</td>\n<td>Forest Hill North &amp; West\n</td></tr>\n<tr>\n<td>M6P\n</td>\n<td>West Toronto\n</td>\n<td>High Park, The Junction South\n</td></tr>\n<tr>\n<td>M7P\n</td>\n<td>Not assigned\n</td>\n<td>\n</td></tr>\n<tr>\n<td>M8P\n</td>\n<td>Not assigned\n</td>\n<td>\n</td></tr>\n<tr>\n<td>M9P\n</td>\n<td>Etobicoke\n</td>\n<td>Westmount\n</td></tr>\n<tr>\n<td>M1R\n</td>\n<td>Scarborough\n</td>\n<td>Wexford, Maryvale\n</td></tr>\n<tr>\n<td>M2R\n</td>\n<td>North York\n</td>\n<td>Willowdale\n</td></tr>\n<tr>\n<td>M3R\n</td>\n<td>Not assigned\n</td>\n<td>\n</td></tr>\n<tr>\n<td>M4R\n</td>\n<td>Central Toronto\n</td>\n<td>North Toronto West\n</td></tr>\n<tr>\n<td>M5R\n</td>\n<td>Central Toronto\n</td>\n<td>The Annex, North Midtown, Yorkville\n</td></tr>\n<tr>\n<td>M6R\n</td>\n<td>West Toronto\n</td>\n<td>Parkdale, Roncesvalles\n</td></tr>\n<tr>\n<td>M7R\n</td>\n<td>Mississauga\n</td>\n<td>Canada Post Gateway Processing Centre\n</td></tr>\n<tr>\n<td>M8R\n</td>\n<td>Not assigned\n</td>\n<td>\n</td></tr>\n<tr>\n<td>M9R\n</td>\n<td>Etobicoke\n</td>\n<td>Kingsview Village, St. Phillips, Martin Grove Gardens, Richview Gardens\n</td></tr>\n<tr>\n<td>M1S\n</td>\n<td>Scarborough\n</td>\n<td>Agincourt\n</td></tr>\n<tr>\n<td>M2S\n</td>\n<td>Not assigned\n</td>\n<td>\n</td></tr>\n<tr>\n<td>M3S\n</td>\n<td>Not assigned\n</td>\n<td>\n</td></tr>\n<tr>\n<td>M4S\n</td>\n<td>Central Toronto\n</td>\n<td>Davisville\n</td></tr>\n<tr>\n<td>M5S\n</td>\n<td>Downtown Toronto\n</td>\n<td>University of Toronto, Harbord\n</td></tr>\n<tr>\n<td>M6S\n</td>\n<td>West Toronto\n</td>\n<td>Runnymede, Swansea\n</td></tr>\n<tr>\n<td>M7S\n</td>\n<td>Not assigned\n</td>\n<td>\n</td></tr>\n<tr>\n<td>M8S\n</td>\n<td>Not assigned\n</td>\n<td>\n</td></tr>\n<tr>\n<td>M9S\n</td>\n<td>Not assigned\n</td>\n<td>\n</td></tr>\n<tr>\n<td>M1T\n</td>\n<td>Scarborough\n</td>\n<td>Clarks Corners, Tam O'Shanter, Sullivan\n</td></tr>\n<tr>\n<td>M2T\n</td>\n<td>Not assigned\n</td>\n<td>\n</td></tr>\n<tr>\n<td>M3T\n</td>\n<td>Not assigned\n</td>\n<td>\n</td></tr>\n<tr>\n<td>M4T\n</td>\n<td>Central Toronto\n</td>\n<td>Moore Park, Summerhill East\n</td></tr>\n<tr>\n<td>M5T\n</td>\n<td>Downtown Toronto\n</td>\n<td>Kensington Market, Chinatown, Grange Park\n</td></tr>\n<tr>\n<td>M6T\n</td>\n<td>Not assigned\n</td>\n<td>\n</td></tr>\n<tr>\n<td>M7T\n</td>\n<td>Not assigned\n</td>\n<td>\n</td></tr>\n<tr>\n<td>M8T\n</td>\n<td>Not assigned\n</td>\n<td>\n</td></tr>\n<tr>\n<td>M9T\n</td>\n<td>Not assigned\n</td>\n<td>\n</td></tr>\n<tr>\n<td>M1V\n</td>\n<td>Scarborough\n</td>\n<td>Milliken, Agincourt North, Steeles East, L'Amoreaux East\n</td></tr>\n<tr>\n<td>M2V\n</td>\n<td>Not assigned\n</td>\n<td>\n</td></tr>\n<tr>\n<td>M3V\n</td>\n<td>Not assigned\n</td>\n<td>\n</td></tr>\n<tr>\n<td>M4V\n</td>\n<td>Central Toronto\n</td>\n<td>Summerhill West, Rathnelly, South Hill, Forest Hill SE, Deer Park\n</td></tr>\n<tr>\n<td>M5V\n</td>\n<td>Downtown Toronto\n</td>\n<td>CN Tower, King and Spadina, Railway Lands, Harbourfront West, Bathurst Quay, South Niagara, Island airport\n</td></tr>\n<tr>\n<td>M6V\n</td>\n<td>Not assigned\n</td>\n<td>\n</td></tr>\n<tr>\n<td>M7V\n</td>\n<td>Not assigned\n</td>\n<td>\n</td></tr>\n<tr>\n<td>M8V\n</td>\n<td>Etobicoke\n</td>\n<td>New Toronto, Mimico South, Humber Bay Shores\n</td></tr>\n<tr>\n<td>M9V\n</td>\n<td>Etobicoke\n</td>\n<td>South Steeles, Silverstone, Humbergate, Jamestown, Mount Olive, Beaumond Heights, Thistletown, Albion Gardens\n</td></tr>\n<tr>\n<td>M1W\n</td>\n<td>Scarborough\n</td>\n<td>Steeles West, L'Amoreaux West\n</td></tr>\n<tr>\n<td>M2W\n</td>\n<td>Not assigned\n</td>\n<td>\n</td></tr>\n<tr>\n<td>M3W\n</td>\n<td>Not assigned\n</td>\n<td>\n</td></tr>\n<tr>\n<td>M4W\n</td>\n<td>Downtown Toronto\n</td>\n<td>Rosedale\n</td></tr>\n<tr>\n<td>M5W\n</td>\n<td>Downtown Toronto\n</td>\n<td>Stn A PO Boxes\n</td></tr>\n<tr>\n<td>M6W\n</td>\n<td>Not assigned\n</td>\n<td>\n</td></tr>\n<tr>\n<td>M7W\n</td>\n<td>Not assigned\n</td>\n<td>\n</td></tr>\n<tr>\n<td>M8W\n</td>\n<td>Etobicoke\n</td>\n<td>Alderwood, Long Branch\n</td></tr>\n<tr>\n<td>M9W\n</td>\n<td>Etobicoke\n</td>\n<td>Northwest\n</td></tr>\n<tr>\n<td>M1X\n</td>\n<td>Scarborough\n</td>\n<td>Upper Rouge\n</td></tr>\n<tr>\n<td>M2X\n</td>\n<td>Not assigned\n</td>\n<td>\n</td></tr>\n<tr>\n<td>M3X\n</td>\n<td>Not assigned\n</td>\n<td>\n</td></tr>\n<tr>\n<td>M4X\n</td>\n<td>Downtown Toronto\n</td>\n<td>St. James Town, Cabbagetown\n</td></tr>\n<tr>\n<td>M5X\n</td>\n<td>Downtown Toronto\n</td>\n<td>First Canadian Place, Underground city\n</td></tr>\n<tr>\n<td>M6X\n</td>\n<td>Not assigned\n</td>\n<td>\n</td></tr>\n<tr>\n<td>M7X\n</td>\n<td>Not assigned\n</td>\n<td>\n</td></tr>\n<tr>\n<td>M8X\n</td>\n<td>Etobicoke\n</td>\n<td>The Kingsway, Montgomery Road, Old Mill North\n</td></tr>\n<tr>\n<td>M9X\n</td>\n<td>Not assigned\n</td>\n<td>\n</td></tr>\n<tr>\n<td>M1Y\n</td>\n<td>Not assigned\n</td>\n<td>\n</td></tr>\n<tr>\n<td>M2Y\n</td>\n<td>Not assigned\n</td>\n<td>\n</td></tr>\n<tr>\n<td>M3Y\n</td>\n<td>Not assigned\n</td>\n<td>\n</td></tr>\n<tr>\n<td>M4Y\n</td>\n<td>Downtown Toronto\n</td>\n<td>Church and Wellesley\n</td></tr>\n<tr>\n<td>M5Y\n</td>\n<td>Not assigned\n</td>\n<td>\n</td></tr>\n<tr>\n<td>M6Y\n</td>\n<td>Not assigned\n</td>\n<td>\n</td></tr>\n<tr>\n<td>M7Y\n</td>\n<td>East Toronto\n</td>\n<td>Business reply mail Processing Centre\n</td></tr>\n<tr>\n<td>M8Y\n</td>\n<td>Etobicoke\n</td>\n<td>Old Mill South, King's Mill Park, Sunnylea, Humber Bay, Mimico NE, The Queensway East, Royal York South East, Kingsway Park South East\n</td></tr>\n<tr>\n<td>M9Y\n</td>\n<td>Not assigned\n</td>\n<td>\n</td></tr>\n<tr>\n<td>M1Z\n</td>\n<td>Not assigned\n</td>\n<td>\n</td></tr>\n<tr>\n<td>M2Z\n</td>\n<td>Not assigned\n</td>\n<td>\n</td></tr>\n<tr>\n<td>M3Z\n</td>\n<td>Not assigned\n</td>\n<td>\n</td></tr>\n<tr>\n<td>M4Z\n</td>\n<td>Not assigned\n</td>\n<td>\n</td></tr>\n<tr>\n<td>M5Z\n</td>\n<td>Not assigned\n</td>\n<td>\n</td></tr>\n<tr>\n<td>M6Z\n</td>\n<td>Not assigned\n</td>\n<td>\n</td></tr>\n<tr>\n<td>M7Z\n</td>\n<td>Not assigned\n</td>\n<td>\n</td></tr>\n<tr>\n<td>M8Z\n</td>\n<td>Etobicoke\n</td>\n<td>Mimico NW, The Queensway West, South of Bloor, Kingsway Park South West, Royal York South West\n</td></tr>\n<tr>\n<td>M9Z\n</td>\n<td>Not assigned\n</td>\n<td>\n</td></tr></tbody></table>"
                    },
                    "execution_count": 3,
                    "metadata": {},
                    "output_type": "execute_result"
                }
            ],
            "source": "soup.table ### view the table from the wikipedia page"
        },
        {
            "cell_type": "markdown",
            "metadata": {},
            "source": "Now let's wrangle and clean the data so we can turn it into a DataFrame"
        },
        {
            "cell_type": "code",
            "execution_count": 4,
            "metadata": {},
            "outputs": [
                {
                    "data": {
                        "text/plain": "[['M3A', 'North York', 'Parkwoods'],\n ['M4A', 'North York', 'Victoria Village'],\n ['M5A', 'Downtown Toronto', 'Regent Park, Harbourfront'],\n ['M6A', 'North York', 'Lawrence Manor, Lawrence Heights'],\n ['M7A', 'Downtown Toronto', \"Queen's Park, Ontario Provincial Government\"],\n ['M9A', 'Etobicoke', 'Islington Avenue'],\n ['M1B', 'Scarborough', 'Malvern, Rouge'],\n ['M3B', 'North York', 'Don Mills'],\n ['M4B', 'East York', 'Parkview Hill, Woodbine Gardens'],\n ['M5B', 'Downtown Toronto', 'Garden District, Ryerson'],\n ['M6B', 'North York', 'Glencairn'],\n ['M9B',\n  'Etobicoke',\n  'West Deane Park, Princess Gardens, Martin Grove, Islington, Cloverdale'],\n ['M1C', 'Scarborough', 'Rouge Hill, Port Union, Highland Creek'],\n ['M3C', 'North York', 'Don Mills'],\n ['M4C', 'East York', 'Woodbine Heights'],\n ['M5C', 'Downtown Toronto', 'St. James Town'],\n ['M6C', 'York', 'Humewood-Cedarvale'],\n ['M9C',\n  'Etobicoke',\n  'Eringate, Bloordale Gardens, Old Burnhamthorpe, Markland Wood'],\n ['M1E', 'Scarborough', 'Guildwood, Morningside, West Hill'],\n ['M4E', 'East Toronto', 'The Beaches'],\n ['M5E', 'Downtown Toronto', 'Berczy Park'],\n ['M6E', 'York', 'Caledonia-Fairbanks'],\n ['M1G', 'Scarborough', 'Woburn'],\n ['M4G', 'East York', 'Leaside'],\n ['M5G', 'Downtown Toronto', 'Central Bay Street'],\n ['M6G', 'Downtown Toronto', 'Christie'],\n ['M1H', 'Scarborough', 'Cedarbrae'],\n ['M2H', 'North York', 'Hillcrest Village'],\n ['M3H', 'North York', 'Bathurst Manor, Wilson Heights, Downsview North'],\n ['M4H', 'East York', 'Thorncliffe Park'],\n ['M5H', 'Downtown Toronto', 'Richmond, Adelaide, King'],\n ['M6H', 'West Toronto', 'Dufferin, Dovercourt Village'],\n ['M1J', 'Scarborough', 'Scarborough Village'],\n ['M2J', 'North York', 'Fairview, Henry Farm, Oriole'],\n ['M3J', 'North York', 'Northwood Park, York University'],\n ['M4J', 'East York', 'East Toronto'],\n ['M5J',\n  'Downtown Toronto',\n  'Harbourfront East, Union Station, Toronto Islands'],\n ['M6J', 'West Toronto', 'Little Portugal, Trinity'],\n ['M1K', 'Scarborough', 'Kennedy Park, Ionview, East Birchmount Park'],\n ['M2K', 'North York', 'Bayview Village'],\n ['M3K', 'North York', 'Downsview'],\n ['M4K', 'East Toronto', 'The Danforth West, Riverdale'],\n ['M5K', 'Downtown Toronto', 'Toronto Dominion Centre, Design Exchange'],\n ['M6K', 'West Toronto', 'Brockton, Parkdale Village, Exhibition Place'],\n ['M1L', 'Scarborough', 'Golden Mile, Clairlea, Oakridge'],\n ['M2L', 'North York', 'York Mills, Silver Hills'],\n ['M3L', 'North York', 'Downsview'],\n ['M4L', 'East Toronto', 'India Bazaar, The Beaches West'],\n ['M5L', 'Downtown Toronto', 'Commerce Court, Victoria Hotel'],\n ['M6L', 'North York', 'North Park, Maple Leaf Park, Upwood Park'],\n ['M9L', 'North York', 'Humber Summit'],\n ['M1M', 'Scarborough', 'Cliffside, Cliffcrest, Scarborough Village West'],\n ['M2M', 'North York', 'Willowdale, Newtonbrook'],\n ['M3M', 'North York', 'Downsview'],\n ['M4M', 'East Toronto', 'Studio District'],\n ['M5M', 'North York', 'Bedford Park, Lawrence Manor East'],\n ['M6M', 'York', 'Del Ray, Mount Dennis, Keelsdale and Silverthorn'],\n ['M9M', 'North York', 'Humberlea, Emery'],\n ['M1N', 'Scarborough', 'Birch Cliff, Cliffside West'],\n ['M2N', 'North York', 'Willowdale'],\n ['M3N', 'North York', 'Downsview'],\n ['M4N', 'Central Toronto', 'Lawrence Park'],\n ['M5N', 'Central Toronto', 'Roselawn'],\n ['M6N', 'York', 'Runnymede, The Junction North'],\n ['M9N', 'York', 'Weston'],\n ['M1P',\n  'Scarborough',\n  'Dorset Park, Wexford Heights, Scarborough Town Centre'],\n ['M2P', 'North York', 'York Mills West'],\n ['M4P', 'Central Toronto', 'Davisville North'],\n ['M5P', 'Central Toronto', 'Forest Hill North & West'],\n ['M6P', 'West Toronto', 'High Park, The Junction South'],\n ['M9P', 'Etobicoke', 'Westmount'],\n ['M1R', 'Scarborough', 'Wexford, Maryvale'],\n ['M2R', 'North York', 'Willowdale'],\n ['M4R', 'Central Toronto', 'North Toronto West'],\n ['M5R', 'Central Toronto', 'The Annex, North Midtown, Yorkville'],\n ['M6R', 'West Toronto', 'Parkdale, Roncesvalles'],\n ['M7R', 'Mississauga', 'Canada Post Gateway Processing Centre'],\n ['M9R',\n  'Etobicoke',\n  'Kingsview Village, St. Phillips, Martin Grove Gardens, Richview Gardens'],\n ['M1S', 'Scarborough', 'Agincourt'],\n ['M4S', 'Central Toronto', 'Davisville'],\n ['M5S', 'Downtown Toronto', 'University of Toronto, Harbord'],\n ['M6S', 'West Toronto', 'Runnymede, Swansea'],\n ['M1T', 'Scarborough', \"Clarks Corners, Tam O'Shanter, Sullivan\"],\n ['M4T', 'Central Toronto', 'Moore Park, Summerhill East'],\n ['M5T', 'Downtown Toronto', 'Kensington Market, Chinatown, Grange Park'],\n ['M1V',\n  'Scarborough',\n  \"Milliken, Agincourt North, Steeles East, L'Amoreaux East\"],\n ['M4V',\n  'Central Toronto',\n  'Summerhill West, Rathnelly, South Hill, Forest Hill SE, Deer Park'],\n ['M5V',\n  'Downtown Toronto',\n  'CN Tower, King and Spadina, Railway Lands, Harbourfront West, Bathurst Quay, South Niagara, Island airport'],\n ['M8V', 'Etobicoke', 'New Toronto, Mimico South, Humber Bay Shores'],\n ['M9V',\n  'Etobicoke',\n  'South Steeles, Silverstone, Humbergate, Jamestown, Mount Olive, Beaumond Heights, Thistletown, Albion Gardens'],\n ['M1W', 'Scarborough', \"Steeles West, L'Amoreaux West\"],\n ['M4W', 'Downtown Toronto', 'Rosedale'],\n ['M5W', 'Downtown Toronto', 'Stn A PO Boxes'],\n ['M8W', 'Etobicoke', 'Alderwood, Long Branch'],\n ['M9W', 'Etobicoke', 'Northwest'],\n ['M1X', 'Scarborough', 'Upper Rouge'],\n ['M4X', 'Downtown Toronto', 'St. James Town, Cabbagetown'],\n ['M5X', 'Downtown Toronto', 'First Canadian Place, Underground city'],\n ['M8X', 'Etobicoke', 'The Kingsway, Montgomery Road, Old Mill North'],\n ['M4Y', 'Downtown Toronto', 'Church and Wellesley'],\n ['M7Y', 'East Toronto', 'Business reply mail Processing Centre'],\n ['M8Y',\n  'Etobicoke',\n  \"Old Mill South, King's Mill Park, Sunnylea, Humber Bay, Mimico NE, The Queensway East, Royal York South East, Kingsway Park South East\"],\n ['M8Z',\n  'Etobicoke',\n  'Mimico NW, The Queensway West, South of Bloor, Kingsway Park South West, Royal York South West']]"
                    },
                    "execution_count": 4,
                    "metadata": {},
                    "output_type": "execute_result"
                }
            ],
            "source": "### wrangle the data and clean it\n\ntable = soup.find('table') ### find the table\ntrs = table.find_all('tr') ### find all the table rows\nrows = [] ### convert the row data into string\nfor tr in trs:\n    i = tr.find_all('td') ### the specific cell data\n    if i:\n        rows.append(i)\n        \nlst = []\nfor row in rows:\n    postalcode = row[0].text.rstrip() ### copy of the string with trailing characters removed for first column\n    borough = row[1].text.rstrip() ### copy of the string with trailing characters removed for next column\n    neighborhood = row[2].text.rstrip() ### copy of the string with trailing characters removed for last column\n    if borough != 'Not assigned': ### Ignoring cells with a borough that is 'Not assigned'\n        if neighborhood == 'Not assigned':\n            neighborhood = borough ### if neighborhood name is not listed assigning the borough name\n        lst.append([postalcode, borough, neighborhood]) ### adding to be columns\n\nlst"
        },
        {
            "cell_type": "markdown",
            "metadata": {},
            "source": "#### Tranform the data into a *pandas* dataframe by using the data nested in Python dictionaries"
        },
        {
            "cell_type": "code",
            "execution_count": 5,
            "metadata": {},
            "outputs": [],
            "source": "cols = ['PostalCode', 'Borough', 'Neighborhood'] ### naming the columns\nneighborhoods = pd.DataFrame(lst, columns=cols) ### creating the dataframe"
        },
        {
            "cell_type": "markdown",
            "metadata": {},
            "source": "Let's explore our DataFrame"
        },
        {
            "cell_type": "code",
            "execution_count": 6,
            "metadata": {},
            "outputs": [
                {
                    "data": {
                        "text/html": "<div>\n<style scoped>\n    .dataframe tbody tr th:only-of-type {\n        vertical-align: middle;\n    }\n\n    .dataframe tbody tr th {\n        vertical-align: top;\n    }\n\n    .dataframe thead th {\n        text-align: right;\n    }\n</style>\n<table border=\"1\" class=\"dataframe\">\n  <thead>\n    <tr style=\"text-align: right;\">\n      <th></th>\n      <th>PostalCode</th>\n      <th>Borough</th>\n      <th>Neighborhood</th>\n    </tr>\n  </thead>\n  <tbody>\n    <tr>\n      <th>0</th>\n      <td>M3A</td>\n      <td>North York</td>\n      <td>Parkwoods</td>\n    </tr>\n    <tr>\n      <th>1</th>\n      <td>M4A</td>\n      <td>North York</td>\n      <td>Victoria Village</td>\n    </tr>\n    <tr>\n      <th>2</th>\n      <td>M5A</td>\n      <td>Downtown Toronto</td>\n      <td>Regent Park, Harbourfront</td>\n    </tr>\n    <tr>\n      <th>3</th>\n      <td>M6A</td>\n      <td>North York</td>\n      <td>Lawrence Manor, Lawrence Heights</td>\n    </tr>\n    <tr>\n      <th>4</th>\n      <td>M7A</td>\n      <td>Downtown Toronto</td>\n      <td>Queen's Park, Ontario Provincial Government</td>\n    </tr>\n    <tr>\n      <th>5</th>\n      <td>M9A</td>\n      <td>Etobicoke</td>\n      <td>Islington Avenue</td>\n    </tr>\n    <tr>\n      <th>6</th>\n      <td>M1B</td>\n      <td>Scarborough</td>\n      <td>Malvern, Rouge</td>\n    </tr>\n    <tr>\n      <th>7</th>\n      <td>M3B</td>\n      <td>North York</td>\n      <td>Don Mills</td>\n    </tr>\n    <tr>\n      <th>8</th>\n      <td>M4B</td>\n      <td>East York</td>\n      <td>Parkview Hill, Woodbine Gardens</td>\n    </tr>\n    <tr>\n      <th>9</th>\n      <td>M5B</td>\n      <td>Downtown Toronto</td>\n      <td>Garden District, Ryerson</td>\n    </tr>\n    <tr>\n      <th>10</th>\n      <td>M6B</td>\n      <td>North York</td>\n      <td>Glencairn</td>\n    </tr>\n    <tr>\n      <th>11</th>\n      <td>M9B</td>\n      <td>Etobicoke</td>\n      <td>West Deane Park, Princess Gardens, Martin Grov...</td>\n    </tr>\n    <tr>\n      <th>12</th>\n      <td>M1C</td>\n      <td>Scarborough</td>\n      <td>Rouge Hill, Port Union, Highland Creek</td>\n    </tr>\n    <tr>\n      <th>13</th>\n      <td>M3C</td>\n      <td>North York</td>\n      <td>Don Mills</td>\n    </tr>\n    <tr>\n      <th>14</th>\n      <td>M4C</td>\n      <td>East York</td>\n      <td>Woodbine Heights</td>\n    </tr>\n    <tr>\n      <th>15</th>\n      <td>M5C</td>\n      <td>Downtown Toronto</td>\n      <td>St. James Town</td>\n    </tr>\n    <tr>\n      <th>16</th>\n      <td>M6C</td>\n      <td>York</td>\n      <td>Humewood-Cedarvale</td>\n    </tr>\n    <tr>\n      <th>17</th>\n      <td>M9C</td>\n      <td>Etobicoke</td>\n      <td>Eringate, Bloordale Gardens, Old Burnhamthorpe...</td>\n    </tr>\n    <tr>\n      <th>18</th>\n      <td>M1E</td>\n      <td>Scarborough</td>\n      <td>Guildwood, Morningside, West Hill</td>\n    </tr>\n    <tr>\n      <th>19</th>\n      <td>M4E</td>\n      <td>East Toronto</td>\n      <td>The Beaches</td>\n    </tr>\n    <tr>\n      <th>20</th>\n      <td>M5E</td>\n      <td>Downtown Toronto</td>\n      <td>Berczy Park</td>\n    </tr>\n    <tr>\n      <th>21</th>\n      <td>M6E</td>\n      <td>York</td>\n      <td>Caledonia-Fairbanks</td>\n    </tr>\n    <tr>\n      <th>22</th>\n      <td>M1G</td>\n      <td>Scarborough</td>\n      <td>Woburn</td>\n    </tr>\n    <tr>\n      <th>23</th>\n      <td>M4G</td>\n      <td>East York</td>\n      <td>Leaside</td>\n    </tr>\n    <tr>\n      <th>24</th>\n      <td>M5G</td>\n      <td>Downtown Toronto</td>\n      <td>Central Bay Street</td>\n    </tr>\n    <tr>\n      <th>25</th>\n      <td>M6G</td>\n      <td>Downtown Toronto</td>\n      <td>Christie</td>\n    </tr>\n    <tr>\n      <th>26</th>\n      <td>M1H</td>\n      <td>Scarborough</td>\n      <td>Cedarbrae</td>\n    </tr>\n    <tr>\n      <th>27</th>\n      <td>M2H</td>\n      <td>North York</td>\n      <td>Hillcrest Village</td>\n    </tr>\n    <tr>\n      <th>28</th>\n      <td>M3H</td>\n      <td>North York</td>\n      <td>Bathurst Manor, Wilson Heights, Downsview North</td>\n    </tr>\n    <tr>\n      <th>29</th>\n      <td>M4H</td>\n      <td>East York</td>\n      <td>Thorncliffe Park</td>\n    </tr>\n    <tr>\n      <th>...</th>\n      <td>...</td>\n      <td>...</td>\n      <td>...</td>\n    </tr>\n    <tr>\n      <th>73</th>\n      <td>M4R</td>\n      <td>Central Toronto</td>\n      <td>North Toronto West</td>\n    </tr>\n    <tr>\n      <th>74</th>\n      <td>M5R</td>\n      <td>Central Toronto</td>\n      <td>The Annex, North Midtown, Yorkville</td>\n    </tr>\n    <tr>\n      <th>75</th>\n      <td>M6R</td>\n      <td>West Toronto</td>\n      <td>Parkdale, Roncesvalles</td>\n    </tr>\n    <tr>\n      <th>76</th>\n      <td>M7R</td>\n      <td>Mississauga</td>\n      <td>Canada Post Gateway Processing Centre</td>\n    </tr>\n    <tr>\n      <th>77</th>\n      <td>M9R</td>\n      <td>Etobicoke</td>\n      <td>Kingsview Village, St. Phillips, Martin Grove ...</td>\n    </tr>\n    <tr>\n      <th>78</th>\n      <td>M1S</td>\n      <td>Scarborough</td>\n      <td>Agincourt</td>\n    </tr>\n    <tr>\n      <th>79</th>\n      <td>M4S</td>\n      <td>Central Toronto</td>\n      <td>Davisville</td>\n    </tr>\n    <tr>\n      <th>80</th>\n      <td>M5S</td>\n      <td>Downtown Toronto</td>\n      <td>University of Toronto, Harbord</td>\n    </tr>\n    <tr>\n      <th>81</th>\n      <td>M6S</td>\n      <td>West Toronto</td>\n      <td>Runnymede, Swansea</td>\n    </tr>\n    <tr>\n      <th>82</th>\n      <td>M1T</td>\n      <td>Scarborough</td>\n      <td>Clarks Corners, Tam O'Shanter, Sullivan</td>\n    </tr>\n    <tr>\n      <th>83</th>\n      <td>M4T</td>\n      <td>Central Toronto</td>\n      <td>Moore Park, Summerhill East</td>\n    </tr>\n    <tr>\n      <th>84</th>\n      <td>M5T</td>\n      <td>Downtown Toronto</td>\n      <td>Kensington Market, Chinatown, Grange Park</td>\n    </tr>\n    <tr>\n      <th>85</th>\n      <td>M1V</td>\n      <td>Scarborough</td>\n      <td>Milliken, Agincourt North, Steeles East, L'Amo...</td>\n    </tr>\n    <tr>\n      <th>86</th>\n      <td>M4V</td>\n      <td>Central Toronto</td>\n      <td>Summerhill West, Rathnelly, South Hill, Forest...</td>\n    </tr>\n    <tr>\n      <th>87</th>\n      <td>M5V</td>\n      <td>Downtown Toronto</td>\n      <td>CN Tower, King and Spadina, Railway Lands, Har...</td>\n    </tr>\n    <tr>\n      <th>88</th>\n      <td>M8V</td>\n      <td>Etobicoke</td>\n      <td>New Toronto, Mimico South, Humber Bay Shores</td>\n    </tr>\n    <tr>\n      <th>89</th>\n      <td>M9V</td>\n      <td>Etobicoke</td>\n      <td>South Steeles, Silverstone, Humbergate, Jamest...</td>\n    </tr>\n    <tr>\n      <th>90</th>\n      <td>M1W</td>\n      <td>Scarborough</td>\n      <td>Steeles West, L'Amoreaux West</td>\n    </tr>\n    <tr>\n      <th>91</th>\n      <td>M4W</td>\n      <td>Downtown Toronto</td>\n      <td>Rosedale</td>\n    </tr>\n    <tr>\n      <th>92</th>\n      <td>M5W</td>\n      <td>Downtown Toronto</td>\n      <td>Stn A PO Boxes</td>\n    </tr>\n    <tr>\n      <th>93</th>\n      <td>M8W</td>\n      <td>Etobicoke</td>\n      <td>Alderwood, Long Branch</td>\n    </tr>\n    <tr>\n      <th>94</th>\n      <td>M9W</td>\n      <td>Etobicoke</td>\n      <td>Northwest</td>\n    </tr>\n    <tr>\n      <th>95</th>\n      <td>M1X</td>\n      <td>Scarborough</td>\n      <td>Upper Rouge</td>\n    </tr>\n    <tr>\n      <th>96</th>\n      <td>M4X</td>\n      <td>Downtown Toronto</td>\n      <td>St. James Town, Cabbagetown</td>\n    </tr>\n    <tr>\n      <th>97</th>\n      <td>M5X</td>\n      <td>Downtown Toronto</td>\n      <td>First Canadian Place, Underground city</td>\n    </tr>\n    <tr>\n      <th>98</th>\n      <td>M8X</td>\n      <td>Etobicoke</td>\n      <td>The Kingsway, Montgomery Road, Old Mill North</td>\n    </tr>\n    <tr>\n      <th>99</th>\n      <td>M4Y</td>\n      <td>Downtown Toronto</td>\n      <td>Church and Wellesley</td>\n    </tr>\n    <tr>\n      <th>100</th>\n      <td>M7Y</td>\n      <td>East Toronto</td>\n      <td>Business reply mail Processing Centre</td>\n    </tr>\n    <tr>\n      <th>101</th>\n      <td>M8Y</td>\n      <td>Etobicoke</td>\n      <td>Old Mill South, King's Mill Park, Sunnylea, Hu...</td>\n    </tr>\n    <tr>\n      <th>102</th>\n      <td>M8Z</td>\n      <td>Etobicoke</td>\n      <td>Mimico NW, The Queensway West, South of Bloor,...</td>\n    </tr>\n  </tbody>\n</table>\n<p>103 rows \u00d7 3 columns</p>\n</div>",
                        "text/plain": "    PostalCode           Borough  \\\n0          M3A        North York   \n1          M4A        North York   \n2          M5A  Downtown Toronto   \n3          M6A        North York   \n4          M7A  Downtown Toronto   \n5          M9A         Etobicoke   \n6          M1B       Scarborough   \n7          M3B        North York   \n8          M4B         East York   \n9          M5B  Downtown Toronto   \n10         M6B        North York   \n11         M9B         Etobicoke   \n12         M1C       Scarborough   \n13         M3C        North York   \n14         M4C         East York   \n15         M5C  Downtown Toronto   \n16         M6C              York   \n17         M9C         Etobicoke   \n18         M1E       Scarborough   \n19         M4E      East Toronto   \n20         M5E  Downtown Toronto   \n21         M6E              York   \n22         M1G       Scarborough   \n23         M4G         East York   \n24         M5G  Downtown Toronto   \n25         M6G  Downtown Toronto   \n26         M1H       Scarborough   \n27         M2H        North York   \n28         M3H        North York   \n29         M4H         East York   \n..         ...               ...   \n73         M4R   Central Toronto   \n74         M5R   Central Toronto   \n75         M6R      West Toronto   \n76         M7R       Mississauga   \n77         M9R         Etobicoke   \n78         M1S       Scarborough   \n79         M4S   Central Toronto   \n80         M5S  Downtown Toronto   \n81         M6S      West Toronto   \n82         M1T       Scarborough   \n83         M4T   Central Toronto   \n84         M5T  Downtown Toronto   \n85         M1V       Scarborough   \n86         M4V   Central Toronto   \n87         M5V  Downtown Toronto   \n88         M8V         Etobicoke   \n89         M9V         Etobicoke   \n90         M1W       Scarborough   \n91         M4W  Downtown Toronto   \n92         M5W  Downtown Toronto   \n93         M8W         Etobicoke   \n94         M9W         Etobicoke   \n95         M1X       Scarborough   \n96         M4X  Downtown Toronto   \n97         M5X  Downtown Toronto   \n98         M8X         Etobicoke   \n99         M4Y  Downtown Toronto   \n100        M7Y      East Toronto   \n101        M8Y         Etobicoke   \n102        M8Z         Etobicoke   \n\n                                          Neighborhood  \n0                                            Parkwoods  \n1                                     Victoria Village  \n2                            Regent Park, Harbourfront  \n3                     Lawrence Manor, Lawrence Heights  \n4          Queen's Park, Ontario Provincial Government  \n5                                     Islington Avenue  \n6                                       Malvern, Rouge  \n7                                            Don Mills  \n8                      Parkview Hill, Woodbine Gardens  \n9                             Garden District, Ryerson  \n10                                           Glencairn  \n11   West Deane Park, Princess Gardens, Martin Grov...  \n12              Rouge Hill, Port Union, Highland Creek  \n13                                           Don Mills  \n14                                    Woodbine Heights  \n15                                      St. James Town  \n16                                  Humewood-Cedarvale  \n17   Eringate, Bloordale Gardens, Old Burnhamthorpe...  \n18                   Guildwood, Morningside, West Hill  \n19                                         The Beaches  \n20                                         Berczy Park  \n21                                 Caledonia-Fairbanks  \n22                                              Woburn  \n23                                             Leaside  \n24                                  Central Bay Street  \n25                                            Christie  \n26                                           Cedarbrae  \n27                                   Hillcrest Village  \n28     Bathurst Manor, Wilson Heights, Downsview North  \n29                                    Thorncliffe Park  \n..                                                 ...  \n73                                  North Toronto West  \n74                 The Annex, North Midtown, Yorkville  \n75                              Parkdale, Roncesvalles  \n76               Canada Post Gateway Processing Centre  \n77   Kingsview Village, St. Phillips, Martin Grove ...  \n78                                           Agincourt  \n79                                          Davisville  \n80                      University of Toronto, Harbord  \n81                                  Runnymede, Swansea  \n82             Clarks Corners, Tam O'Shanter, Sullivan  \n83                         Moore Park, Summerhill East  \n84           Kensington Market, Chinatown, Grange Park  \n85   Milliken, Agincourt North, Steeles East, L'Amo...  \n86   Summerhill West, Rathnelly, South Hill, Forest...  \n87   CN Tower, King and Spadina, Railway Lands, Har...  \n88        New Toronto, Mimico South, Humber Bay Shores  \n89   South Steeles, Silverstone, Humbergate, Jamest...  \n90                       Steeles West, L'Amoreaux West  \n91                                            Rosedale  \n92                                      Stn A PO Boxes  \n93                              Alderwood, Long Branch  \n94                                           Northwest  \n95                                         Upper Rouge  \n96                         St. James Town, Cabbagetown  \n97              First Canadian Place, Underground city  \n98       The Kingsway, Montgomery Road, Old Mill North  \n99                                Church and Wellesley  \n100              Business reply mail Processing Centre  \n101  Old Mill South, King's Mill Park, Sunnylea, Hu...  \n102  Mimico NW, The Queensway West, South of Bloor,...  \n\n[103 rows x 3 columns]"
                    },
                    "execution_count": 6,
                    "metadata": {},
                    "output_type": "execute_result"
                }
            ],
            "source": "neighborhoods"
        },
        {
            "cell_type": "markdown",
            "metadata": {},
            "source": "Last, let's explore the shape of our data"
        },
        {
            "cell_type": "code",
            "execution_count": 7,
            "metadata": {},
            "outputs": [
                {
                    "data": {
                        "text/plain": "(103, 3)"
                    },
                    "execution_count": 7,
                    "metadata": {},
                    "output_type": "execute_result"
                }
            ],
            "source": "neighborhoods.shape"
        },
        {
            "cell_type": "markdown",
            "metadata": {},
            "source": "---"
        },
        {
            "cell_type": "markdown",
            "metadata": {},
            "source": "> # `Part 2 ~ Assigning the Longitude and Latitude`\n>> **After Multiple Attempts I was able to install Geocoder but was unable to get longitude/latitude for locations**"
        },
        {
            "cell_type": "markdown",
            "metadata": {},
            "source": "---"
        },
        {
            "cell_type": "markdown",
            "metadata": {},
            "source": "#### Import and use the csv file to create a DataFrame of the latitude and longitude values of Toronto Postal Codes"
        },
        {
            "cell_type": "code",
            "execution_count": null,
            "metadata": {},
            "outputs": [],
            "source": "df_ll = pd.read_csv('http://cocl.us/Geospatial_data') ### create Longitude & Latitude (ll) dataframe by using pandas to read csv\ndf_ll.columns = ['PostalCode','Latitude','Longitude'] ### name the incoming columns"
        },
        {
            "cell_type": "markdown",
            "metadata": {},
            "source": "#### view the first five to verify format"
        },
        {
            "cell_type": "code",
            "execution_count": null,
            "metadata": {},
            "outputs": [],
            "source": "df_ll.head()"
        },
        {
            "cell_type": "markdown",
            "metadata": {},
            "source": "#### Use the Longitude and Latitude DataFrame and merge it into our Toronto Neighborhood DataFrame"
        },
        {
            "cell_type": "code",
            "execution_count": null,
            "metadata": {},
            "outputs": [],
            "source": "Toronto_neighborhoods = pd.merge(neighborhoods, df_ll[['PostalCode','Latitude','Longitude']], on='PostalCode')\nToronto_neighborhoods = Toronto_neighborhoods.sort_values('PostalCode')"
        },
        {
            "cell_type": "markdown",
            "metadata": {},
            "source": "Let's view the merged Data Frame"
        },
        {
            "cell_type": "code",
            "execution_count": null,
            "metadata": {},
            "outputs": [],
            "source": "Toronto_neighborhoods"
        },
        {
            "cell_type": "markdown",
            "metadata": {},
            "source": "> # `Part 3 ~ Exploring and Creating a Cluster Map`"
        },
        {
            "cell_type": "markdown",
            "metadata": {},
            "source": "#### Before we get the data and start exploring it, \n\nlet's download all the dependencies that we will need for part 3"
        },
        {
            "cell_type": "code",
            "execution_count": null,
            "metadata": {},
            "outputs": [],
            "source": "import json # library to handle JSON files\nfrom pandas.io.json import json_normalize # tranform JSON file into a pandas dataframe\n\n# Matplotlib and associated plotting modules\nimport matplotlib.cm as cm\nimport matplotlib.colors as colors\n\n# import k-means from clustering stage\nfrom sklearn.cluster import KMeans\n\nprint('Libraries imported.')"
        },
        {
            "cell_type": "code",
            "execution_count": null,
            "metadata": {},
            "outputs": [],
            "source": "# !conda install -c conda-forge folium=0.5.0 --yes # uncomment this line if you haven't previously installed\nimport folium # map rendering library"
        },
        {
            "cell_type": "code",
            "execution_count": null,
            "metadata": {},
            "outputs": [],
            "source": "# !conda install -c conda-forge geopy --yes # uncomment this line if you haven't installed yet\nfrom geopy.geocoders import Nominatim # convert an address into latitude and longitude values"
        },
        {
            "cell_type": "markdown",
            "metadata": {},
            "source": "### Use geopy library to get the latitude and longitude values of Toronto"
        },
        {
            "cell_type": "code",
            "execution_count": null,
            "metadata": {},
            "outputs": [],
            "source": "address = 'Toronto, ON'\n\ngeolocator = Nominatim(user_agent=\"ca_explorer\")\nlocation = geolocator.geocode(address)\nlatitude = location.latitude\nlongitude = location.longitude\nprint('The geograpical coordinate of Toronto are {}, {}.'.format(latitude, longitude))"
        },
        {
            "cell_type": "markdown",
            "metadata": {},
            "source": "### Create a map of Toronto with neighborhoods superimposed on top."
        },
        {
            "cell_type": "code",
            "execution_count": null,
            "metadata": {},
            "outputs": [],
            "source": "# create map of Toronto using latitude and longitude values\nmap_toronto = folium.Map(location=[latitude, longitude], zoom_start=11.25)\n\n# add markers to map\nfor lat, lng, borough, neighborhood in zip(Toronto_neighborhoods['Latitude'], Toronto_neighborhoods['Longitude'], Toronto_neighborhoods['Borough'], Toronto_neighborhoods['Neighborhood']):\n    label = '{}, {}'.format(neighborhood, borough)\n    label = folium.Popup(label, parse_html=True)\n    folium.CircleMarker(\n        [lat, lng],\n        radius=5,\n        popup=label,\n        color='blue',\n        fill=True,\n        fill_color='#3186cc',\n        fill_opacity=0.7,\n        parse_html=False).add_to(map_toronto)  \n    \nmap_toronto"
        },
        {
            "cell_type": "markdown",
            "metadata": {},
            "source": "### Define Foursquare Creditials and Version in @hidden_cell"
        },
        {
            "cell_type": "code",
            "execution_count": null,
            "metadata": {},
            "outputs": [],
            "source": "# The code was removed by Watson Studio for sharing."
        },
        {
            "cell_type": "markdown",
            "metadata": {},
            "source": "### We'll start by exploring the neighborhoods in Toronto by creating a function to run the process for all neighborhoods in Toronto"
        },
        {
            "cell_type": "code",
            "execution_count": null,
            "metadata": {},
            "outputs": [],
            "source": "def getNearbyVenues(names, latitudes, longitudes, radius=500):\n    \n    venues_list=[]\n    for name, lat, lng in zip(names, latitudes, longitudes):\n        print(name)\n            \n        # create the API request URL\n        url = 'https://api.foursquare.com/v2/venues/explore?&client_id={}&client_secret={}&v={}&ll={},{}&radius={}&limit={}'.format(\n            CLIENT_ID, \n            CLIENT_SECRET, \n            VERSION, \n            lat, \n            lng, \n            radius, \n            LIMIT)\n            \n        # make the GET request\n        results = requests.get(url).json()[\"response\"]['groups'][0]['items']\n        \n        # return only relevant information for each nearby venue\n        venues_list.append([(\n            name, \n            lat, \n            lng, \n            v['venue']['name'], \n            v['venue']['location']['lat'], \n            v['venue']['location']['lng'],  \n            v['venue']['categories'][0]['name']) for v in results])\n\n    nearby_venues = pd.DataFrame([item for venue_list in venues_list for item in venue_list])\n    nearby_venues.columns = ['Neighborhood', \n                  'Neighborhood Latitude', \n                  'Neighborhood Longitude', \n                  'Venue', \n                  'Venue Latitude', \n                  'Venue Longitude', \n                  'Venue Category']\n    \n    return(nearby_venues)"
        },
        {
            "cell_type": "markdown",
            "metadata": {},
            "source": "### Now we write the code to run the function and create a new DataFrame called Toronto_Venues"
        },
        {
            "cell_type": "code",
            "execution_count": null,
            "metadata": {},
            "outputs": [],
            "source": "Toronto_venues = getNearbyVenues(names=Toronto_neighborhoods['Neighborhood'],\n                                   latitudes=Toronto_neighborhoods['Latitude'],\n                                   longitudes=Toronto_neighborhoods['Longitude'])"
        },
        {
            "cell_type": "markdown",
            "metadata": {},
            "source": "### Let's check how many venues were returned for each neighborhood"
        },
        {
            "cell_type": "code",
            "execution_count": null,
            "metadata": {},
            "outputs": [],
            "source": "Toronto_venues.groupby('Neighborhood').count()"
        },
        {
            "cell_type": "markdown",
            "metadata": {},
            "source": "### Let's see how many unique categories are included in the set"
        },
        {
            "cell_type": "code",
            "execution_count": null,
            "metadata": {},
            "outputs": [],
            "source": "print('There are {} uniques categories.'.format(len(Toronto_venues['Venue Category'].unique())))"
        },
        {
            "cell_type": "markdown",
            "metadata": {},
            "source": "## `Analyzing the neighborhoods`"
        },
        {
            "cell_type": "code",
            "execution_count": null,
            "metadata": {},
            "outputs": [],
            "source": "# one hot encoding\nToronto_onehot = pd.get_dummies(Toronto_venues[['Venue Category']], prefix=\"\", prefix_sep=\"\")\n\n# add neighborhood column back to dataframe\nToronto_onehot['Neighborhood'] = Toronto_venues['Neighborhood'] \n\n# move neighborhood column to the first column\nfixed_columns = [Toronto_onehot.columns[-1]] + list(Toronto_onehot.columns[:-1])\nToronto_onehot = Toronto_onehot[fixed_columns]\n\nToronto_onehot.head()"
        },
        {
            "cell_type": "markdown",
            "metadata": {},
            "source": "### Next, let's group rows by neighborhood and by taking the mean of the frequency of occurrence of each category"
        },
        {
            "cell_type": "code",
            "execution_count": null,
            "metadata": {},
            "outputs": [],
            "source": "Toronto_grouped = Toronto_onehot.groupby('Neighborhood').mean().reset_index()\nToronto_grouped"
        },
        {
            "cell_type": "markdown",
            "metadata": {},
            "source": "### Let's find each neighborhood's top 5 most common venues"
        },
        {
            "cell_type": "code",
            "execution_count": null,
            "metadata": {},
            "outputs": [],
            "source": "num_top_venues = 5\n\nfor hood in Toronto_grouped['Neighborhood']:\n    print(\"----\"+hood+\"----\")\n    temp = Toronto_grouped[Toronto_grouped['Neighborhood'] == hood].T.reset_index()\n    temp.columns = ['venue','freq']\n    temp = temp.iloc[1:]\n    temp['freq'] = temp['freq'].astype(float)\n    temp = temp.round({'freq': 2})\n    print(temp.sort_values('freq', ascending=False).reset_index(drop=True).head(num_top_venues))\n    print('\\n')"
        },
        {
            "cell_type": "markdown",
            "metadata": {},
            "source": "## Create a *pandas* dataframe with the data"
        },
        {
            "cell_type": "code",
            "execution_count": null,
            "metadata": {},
            "outputs": [],
            "source": "def return_most_common_venues(row, num_top_venues):\n    row_categories = row.iloc[1:]\n    row_categories_sorted = row_categories.sort_values(ascending=False)\n    \n    return row_categories_sorted.index.values[0:num_top_venues]"
        },
        {
            "cell_type": "markdown",
            "metadata": {},
            "source": "## This time let's find the top 10 venues for each neighborhood"
        },
        {
            "cell_type": "code",
            "execution_count": null,
            "metadata": {},
            "outputs": [],
            "source": "num_top_venues = 10\n\nindicators = ['st', 'nd', 'rd']\n\n# create columns according to number of top venues\ncolumns = ['Neighborhood']\nfor ind in np.arange(num_top_venues):\n    try:\n        columns.append('{}{} Most Common Venue'.format(ind+1, indicators[ind]))\n    except:\n        columns.append('{}th Most Common Venue'.format(ind+1))\n\n# create a new dataframe\nToronto_venues_sorted = pd.DataFrame(columns=columns)\nToronto_venues_sorted['Neighborhood'] = Toronto_grouped['Neighborhood']\n\nfor ind in np.arange(Toronto_grouped.shape[0]):\n    Toronto_venues_sorted.iloc[ind, 1:] = return_most_common_venues(Toronto_grouped.iloc[ind, :], num_top_venues)\n\nToronto_venues_sorted.head()"
        },
        {
            "cell_type": "markdown",
            "metadata": {},
            "source": "## `Clustering the Neighborhoods`\n#### Run *k-means* to cluster neighborhoods into 5 clusters"
        },
        {
            "cell_type": "code",
            "execution_count": null,
            "metadata": {},
            "outputs": [],
            "source": "# set number of clusters\nkclusters = 5\n\nToronto_grouped_clustering = Toronto_grouped.drop('Neighborhood', 1)\n\n# run k-means clustering\nkmeans = KMeans(n_clusters=kclusters, random_state=0).fit(Toronto_grouped_clustering)\n\n# check cluster labels generated for each row in the dataframe\nkmeans.labels_[0:10]"
        },
        {
            "cell_type": "markdown",
            "metadata": {},
            "source": "### Creating the dataframe that includes the cluster as well as the top 10 ventues for each neighborhood"
        },
        {
            "cell_type": "code",
            "execution_count": null,
            "metadata": {},
            "outputs": [],
            "source": "# add clustering labels\nToronto_venues_sorted.insert(0, 'Cluster Labels', kmeans.labels_)\n\nToronto_merged = Toronto_neighborhoods\n\n# merge toronto_grouped with toronto_data to add latitude/longitude for each neighborhood\nToronto_merged = Toronto_merged.join(Toronto_venues_sorted.set_index('Neighborhood'), on='Neighborhood').dropna()\nToronto_merged = Toronto_merged.sort_values('Borough')\nToronto_merged.head() # check the last columns!"
        },
        {
            "cell_type": "markdown",
            "metadata": {},
            "source": "### `Lastly, let's visualize the resulting clusters`"
        },
        {
            "cell_type": "code",
            "execution_count": null,
            "metadata": {
                "scrolled": true
            },
            "outputs": [],
            "source": "map_clusters = folium.Map(location=[latitude, longitude], zoom_start=11)\n\n# set color scheme for the clusters\nx = np.arange(kclusters)\nys = [i+x+(i*x)**2 for i in range(kclusters)]\ncolors_array = cm.rainbow(np.linspace(0, 1, len(ys)))\nrainbow = [colors.rgb2hex(i) for i in colors_array]\n\n# add markers to the map\nmarkers_colors = []\nfor lat, lon, post, bor, poi, cluster in zip(Toronto_merged['Latitude'], Toronto_merged['Longitude'], Toronto_merged['PostalCode'], Toronto_merged['Borough'], Toronto_merged['Neighborhood'], Toronto_merged['Cluster Labels']):\n    label = folium.Popup('{} ({}): {} - Cluster {}'.format(bor, post, poi, cluster), parse_html=True)\n    folium.CircleMarker(\n        [lat, lon],\n        radius=5,\n        popup=label,\n        color = rainbow[int(cluster)-1],\n        fill=True,\n        fill_color=rainbow[int(cluster)-1],\n        fill_opacity=0.7).add_to(map_clusters)\n       \nmap_clusters"
        },
        {
            "cell_type": "markdown",
            "metadata": {},
            "source": "## `Let's Examine the Resulting Clusters`\n### Here you can see the venues that were used to create the clusters"
        },
        {
            "cell_type": "code",
            "execution_count": null,
            "metadata": {},
            "outputs": [],
            "source": "Toronto_merged.loc[Toronto_merged['Cluster Labels'] == 0, Toronto_merged.columns[[1] + list(range(5, Toronto_merged.shape[1]))]]"
        },
        {
            "cell_type": "markdown",
            "metadata": {},
            "source": "#### The first cluster was created by neighborhoods where the parks, playgrounds, and pools are the top venues"
        },
        {
            "cell_type": "code",
            "execution_count": null,
            "metadata": {},
            "outputs": [],
            "source": "Toronto_merged.loc[Toronto_merged['Cluster Labels'] == 1, Toronto_merged.columns[[1] + list(range(5, Toronto_merged.shape[1]))]]"
        },
        {
            "cell_type": "markdown",
            "metadata": {},
            "source": "### The second cluster was created by neighborhoods where food is one of the top venues"
        },
        {
            "cell_type": "code",
            "execution_count": null,
            "metadata": {},
            "outputs": [],
            "source": "Toronto_merged.loc[Toronto_merged['Cluster Labels'] == 2, Toronto_merged.columns[[1] + list(range(5, Toronto_merged.shape[1]))]]"
        },
        {
            "cell_type": "markdown",
            "metadata": {},
            "source": "### The third cluster is by neighborhoods where Sports Fields, Retail, and Industrial were top venues"
        },
        {
            "cell_type": "code",
            "execution_count": null,
            "metadata": {},
            "outputs": [],
            "source": "Toronto_merged.loc[Toronto_merged['Cluster Labels'] == 3, Toronto_merged.columns[[1] + list(range(5, Toronto_merged.shape[1]))]]"
        },
        {
            "cell_type": "markdown",
            "metadata": {},
            "source": "### The fourth cluster is by neighborhoods where parks and Sushi were top venues"
        },
        {
            "cell_type": "code",
            "execution_count": null,
            "metadata": {},
            "outputs": [],
            "source": "Toronto_merged.loc[Toronto_merged['Cluster Labels'] == 4, Toronto_merged.columns[[1] + list(range(5, Toronto_merged.shape[1]))]]"
        },
        {
            "cell_type": "markdown",
            "metadata": {},
            "source": "### The last cluster contains the outlier of our data set, the one that is least like the others."
        }
    ],
    "metadata": {
        "kernelspec": {
            "display_name": "Python 3.6",
            "language": "python",
            "name": "python3"
        },
        "language_info": {
            "codemirror_mode": {
                "name": "ipython",
                "version": 3
            },
            "file_extension": ".py",
            "mimetype": "text/x-python",
            "name": "python",
            "nbconvert_exporter": "python",
            "pygments_lexer": "ipython3",
            "version": "3.6.9"
        }
    },
    "nbformat": 4,
    "nbformat_minor": 1
}