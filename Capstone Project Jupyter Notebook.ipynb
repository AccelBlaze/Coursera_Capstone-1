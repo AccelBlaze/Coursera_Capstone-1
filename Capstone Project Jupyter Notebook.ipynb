{
    "cells": [
        {
            "cell_type": "markdown",
            "metadata": {
                "collapsed": true
            },
            "source": "# Applied Data Science Capstone  \n#### This notebook will be mainly used for the capstone project.  \n> *Notebook Created by* **Ezra Witt**\n\n### Project To Do List  \n1. [x] Create Github\n2. [x] Create Jupyter Notebook\n3. [x] Write some markdown to explain that this notebook will be mainly used for the capstone project.\n4. [x] Import the pandas library as pd.\n5. [x] Import the Numpy library as np.\n6. [x] Print the following the statement: Hello Capstone Project Course!\n\n>> To learn more about this project or the IBM Data Science Professional Certificate visit this [website](https://www.coursera.org/professional-certificates/ibm-data-science) "
        },
        {
            "cell_type": "code",
            "execution_count": 1,
            "metadata": {},
            "outputs": [
                {
                    "name": "stdout",
                    "output_type": "stream",
                    "text": "Hello Capstone Project Course!\n"
                }
            ],
            "source": "import pandas as pd\nimport numpy as np\nprint('Hello Capstone Project Course!')"
        }
    ],
    "metadata": {
        "kernelspec": {
            "display_name": "Python 3.6",
            "language": "python",
            "name": "python3"
        },
        "language_info": {
            "codemirror_mode": {
                "name": "ipython",
                "version": 3
            },
            "file_extension": ".py",
            "mimetype": "text/x-python",
            "name": "python",
            "nbconvert_exporter": "python",
            "pygments_lexer": "ipython3",
            "version": "3.6.9"
        }
    },
    "nbformat": 4,
    "nbformat_minor": 1
}